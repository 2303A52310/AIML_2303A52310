{
  "nbformat": 4,
  "nbformat_minor": 0,
  "metadata": {
    "colab": {
      "provenance": [],
      "authorship_tag": "ABX9TyPf6mZosSz1uhlYzkee8RU4",
      "include_colab_link": true
    },
    "kernelspec": {
      "name": "python3",
      "display_name": "Python 3"
    },
    "language_info": {
      "name": "python"
    }
  },
  "cells": [
    {
      "cell_type": "markdown",
      "metadata": {
        "id": "view-in-github",
        "colab_type": "text"
      },
      "source": [
        "<a href=\"https://colab.research.google.com/github/2303A52310/AIML_2303A52310/blob/main/AIML_FinalExam.ipynb\" target=\"_parent\"><img src=\"https://colab.research.google.com/assets/colab-badge.svg\" alt=\"Open In Colab\"/></a>"
      ]
    },
    {
      "cell_type": "code",
      "execution_count": 2,
      "metadata": {
        "colab": {
          "base_uri": "https://localhost:8080/"
        },
        "id": "OGyzoux53yzA",
        "outputId": "8ad842ee-c2b9-404b-b0ef-5b2fe68bf131"
      },
      "outputs": [
        {
          "output_type": "stream",
          "name": "stdout",
          "text": [
            "Top-10 Popular Names:\n",
            " Name\n",
            "James      5328370\n",
            "John       5282978\n",
            "Robert     4990971\n",
            "Michael    4602810\n",
            "William    4242917\n",
            "Mary       4184969\n",
            "David      3801028\n",
            "Joseph     2707061\n",
            "Richard    2647959\n",
            "Charles    2446151\n",
            "Name: Count, dtype: int64\n",
            "Max Count: 5328370, Min Count: 1\n",
            "Gender with the most names: F\n",
            "Probabilities of Male and Female:\n",
            " Gender\n",
            "M    0.505681\n",
            "F    0.494319\n",
            "Name: Count, dtype: float64\n",
            "Top-5 Names with Highest Probabilities:\n",
            " Name\n",
            "Kim-Maree    1.0\n",
            "Munawara     1.0\n",
            "Muneo        1.0\n",
            "Munender     1.0\n",
            "Muneerah     1.0\n",
            "Name: Probability, dtype: float64\n",
            "Model Accuracy: 1.00\n",
            "Mean Squared Error: 0.00\n",
            "Classification Report:\n",
            "               precision    recall  f1-score   support\n",
            "\n",
            "           0       1.00      1.00      1.00     44181\n",
            "\n",
            "    accuracy                           1.00     44181\n",
            "   macro avg       1.00      1.00      1.00     44181\n",
            "weighted avg       1.00      1.00      1.00     44181\n",
            "\n"
          ]
        }
      ],
      "source": [
        "import pandas as pd\n",
        "from sklearn.model_selection import train_test_split\n",
        "from sklearn.ensemble import RandomForestClassifier\n",
        "from sklearn.metrics import accuracy_score, classification_report, mean_squared_error\n",
        "\n",
        "# Load the dataset\n",
        "df = pd.read_csv(\"/content/gender+by+name.zip\")\n",
        "\n",
        "# Q1. Identify the Top-10 Popular Names Given to Babies\n",
        "top_10_names = df.groupby(\"Name\")[\"Count\"].sum().sort_values(ascending=False).head(10)\n",
        "print(\"Top-10 Popular Names:\\n\", top_10_names)\n",
        "\n",
        "# Q2. Find the Max and Min Count of Babies with Similar Names\n",
        "name_counts = df.groupby(\"Name\")[\"Count\"].sum()\n",
        "max_count = name_counts.max()\n",
        "min_count = name_counts.min()\n",
        "print(f\"Max Count: {max_count}, Min Count: {min_count}\")\n",
        "\n",
        "# Q3. Name the Gender with the Most Names Among the Babies\n",
        "gender_counts = df.groupby(\"Gender\")[\"Name\"].nunique()\n",
        "most_names_gender = gender_counts.idxmax()\n",
        "print(f\"Gender with the most names: {most_names_gender}\")\n",
        "\n",
        "# Q4. Identify the Top-5 Probabilities of Male and Female Babies\n",
        "total_count = df[\"Count\"].sum()\n",
        "gender_probabilities = (\n",
        "    df.groupby(\"Gender\")[\"Count\"].sum() / total_count\n",
        ").sort_values(ascending=False)\n",
        "print(\"Probabilities of Male and Female:\\n\", gender_probabilities)\n",
        "\n",
        "# Q5. Name the Top-5 Names with Highest Probabilities\n",
        "df[\"Total Count\"] = df.groupby(\"Name\")[\"Count\"].transform(\"sum\")\n",
        "df[\"Probability\"] = df[\"Count\"] / df[\"Total Count\"]\n",
        "top_5_names_probabilities = (\n",
        "    df.groupby(\"Name\")[\"Probability\"].mean().sort_values(ascending=False).head(5)\n",
        ")\n",
        "print(\"Top-5 Names with Highest Probabilities:\\n\", top_5_names_probabilities)\n",
        "\n",
        "# Q6. Apply Classification Model to Predict Gender by Name Length\n",
        "# Add a feature for name length\n",
        "df[\"Name Length\"] = df[\"Name\"].apply(len)\n",
        "\n",
        "# Convert Gender to binary (Male=1, Female=0)\n",
        "df[\"Gender_Binary\"] = df[\"Gender\"].apply(lambda x: 1 if x == \"Male\" else 0)\n",
        "\n",
        "# Features and target\n",
        "X = df[[\"Name Length\"]]\n",
        "y = df[\"Gender_Binary\"]\n",
        "\n",
        "# Split the data\n",
        "X_train, X_test, y_train, y_test = train_test_split(X, y, test_size=0.3, random_state=42)\n",
        "\n",
        "# Train a Random Forest Classifier\n",
        "model = RandomForestClassifier(random_state=42)\n",
        "model.fit(X_train, y_train)\n",
        "\n",
        "# Predict and evaluate\n",
        "y_pred = model.predict(X_test)\n",
        "accuracy = accuracy_score(y_test, y_pred)\n",
        "mse = mean_squared_error(y_test, y_pred)\n",
        "\n",
        "print(f\"Model Accuracy: {accuracy:.2f}\")\n",
        "print(f\"Mean Squared Error: {mse:.2f}\")\n",
        "print(\"Classification Report:\\n\", classification_report(y_test, y_pred))"
      ]
    }
  ]
}